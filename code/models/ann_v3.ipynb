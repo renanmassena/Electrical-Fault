{
 "cells": [
  {
   "cell_type": "code",
   "execution_count": 1,
   "metadata": {},
   "outputs": [],
   "source": [
    "import numpy as np\n",
    "import pandas as pd\n",
    "import matplotlib.pyplot as plt\n",
    "import seaborn as sns\n",
    "from qbstyles import mpl_style; mpl_style(dark=True)\n",
    "from sklearn.metrics import confusion_matrix, accuracy_score, classification_report\n",
    "from tensorflow.keras.layers import Dense\n",
    "from tensorflow.keras.models import Sequential"
   ]
  },
  {
   "cell_type": "code",
   "execution_count": 2,
   "metadata": {},
   "outputs": [],
   "source": [
    "nb_version = \"v3\""
   ]
  },
  {
   "cell_type": "code",
   "execution_count": 3,
   "metadata": {},
   "outputs": [
    {
     "data": {
      "text/plain": [
       "'Train: (8400, 8)'"
      ]
     },
     "metadata": {},
     "output_type": "display_data"
    },
    {
     "data": {
      "text/html": [
       "<div>\n",
       "<style scoped>\n",
       "    .dataframe tbody tr th:only-of-type {\n",
       "        vertical-align: middle;\n",
       "    }\n",
       "\n",
       "    .dataframe tbody tr th {\n",
       "        vertical-align: top;\n",
       "    }\n",
       "\n",
       "    .dataframe thead th {\n",
       "        text-align: right;\n",
       "    }\n",
       "</style>\n",
       "<table border=\"1\" class=\"dataframe\">\n",
       "  <thead>\n",
       "    <tr style=\"text-align: right;\">\n",
       "      <th></th>\n",
       "      <th>index</th>\n",
       "      <th>output</th>\n",
       "      <th>Ia</th>\n",
       "      <th>Ib</th>\n",
       "      <th>Ic</th>\n",
       "      <th>Va</th>\n",
       "      <th>Vb</th>\n",
       "      <th>Vc</th>\n",
       "    </tr>\n",
       "  </thead>\n",
       "  <tbody>\n",
       "    <tr>\n",
       "      <th>0</th>\n",
       "      <td>11295</td>\n",
       "      <td>0</td>\n",
       "      <td>0.021636</td>\n",
       "      <td>-0.011753</td>\n",
       "      <td>-0.025728</td>\n",
       "      <td>1.656374</td>\n",
       "      <td>-0.510284</td>\n",
       "      <td>-1.115444</td>\n",
       "    </tr>\n",
       "    <tr>\n",
       "      <th>1</th>\n",
       "      <td>2656</td>\n",
       "      <td>1</td>\n",
       "      <td>0.586400</td>\n",
       "      <td>-2.360192</td>\n",
       "      <td>-0.235266</td>\n",
       "      <td>-0.126077</td>\n",
       "      <td>0.465125</td>\n",
       "      <td>-0.351109</td>\n",
       "    </tr>\n",
       "    <tr>\n",
       "      <th>2</th>\n",
       "      <td>166</td>\n",
       "      <td>0</td>\n",
       "      <td>0.148467</td>\n",
       "      <td>-0.026999</td>\n",
       "      <td>-0.156712</td>\n",
       "      <td>0.470996</td>\n",
       "      <td>1.197159</td>\n",
       "      <td>-1.690071</td>\n",
       "    </tr>\n",
       "    <tr>\n",
       "      <th>3</th>\n",
       "      <td>9307</td>\n",
       "      <td>1</td>\n",
       "      <td>-2.046694</td>\n",
       "      <td>2.200021</td>\n",
       "      <td>-0.040130</td>\n",
       "      <td>-0.034315</td>\n",
       "      <td>0.138725</td>\n",
       "      <td>-0.107970</td>\n",
       "    </tr>\n",
       "    <tr>\n",
       "      <th>4</th>\n",
       "      <td>11780</td>\n",
       "      <td>0</td>\n",
       "      <td>0.126816</td>\n",
       "      <td>0.093206</td>\n",
       "      <td>-0.281670</td>\n",
       "      <td>0.056748</td>\n",
       "      <td>1.490284</td>\n",
       "      <td>-1.580388</td>\n",
       "    </tr>\n",
       "  </tbody>\n",
       "</table>\n",
       "</div>"
      ],
      "text/plain": [
       "   index  output        Ia        Ib        Ic        Va        Vb        Vc\n",
       "0  11295       0  0.021636 -0.011753 -0.025728  1.656374 -0.510284 -1.115444\n",
       "1   2656       1  0.586400 -2.360192 -0.235266 -0.126077  0.465125 -0.351109\n",
       "2    166       0  0.148467 -0.026999 -0.156712  0.470996  1.197159 -1.690071\n",
       "3   9307       1 -2.046694  2.200021 -0.040130 -0.034315  0.138725 -0.107970\n",
       "4  11780       0  0.126816  0.093206 -0.281670  0.056748  1.490284 -1.580388"
      ]
     },
     "metadata": {},
     "output_type": "display_data"
    },
    {
     "data": {
      "text/plain": [
       "'Test: (3601, 8)'"
      ]
     },
     "metadata": {},
     "output_type": "display_data"
    },
    {
     "data": {
      "text/html": [
       "<div>\n",
       "<style scoped>\n",
       "    .dataframe tbody tr th:only-of-type {\n",
       "        vertical-align: middle;\n",
       "    }\n",
       "\n",
       "    .dataframe tbody tr th {\n",
       "        vertical-align: top;\n",
       "    }\n",
       "\n",
       "    .dataframe thead th {\n",
       "        text-align: right;\n",
       "    }\n",
       "</style>\n",
       "<table border=\"1\" class=\"dataframe\">\n",
       "  <thead>\n",
       "    <tr style=\"text-align: right;\">\n",
       "      <th></th>\n",
       "      <th>index</th>\n",
       "      <th>output</th>\n",
       "      <th>Ia</th>\n",
       "      <th>Ib</th>\n",
       "      <th>Ic</th>\n",
       "      <th>Va</th>\n",
       "      <th>Vb</th>\n",
       "      <th>Vc</th>\n",
       "    </tr>\n",
       "  </thead>\n",
       "  <tbody>\n",
       "    <tr>\n",
       "      <th>0</th>\n",
       "      <td>6137</td>\n",
       "      <td>0</td>\n",
       "      <td>0.110021</td>\n",
       "      <td>-0.029281</td>\n",
       "      <td>-0.098232</td>\n",
       "      <td>1.135295</td>\n",
       "      <td>0.560390</td>\n",
       "      <td>-1.695449</td>\n",
       "    </tr>\n",
       "    <tr>\n",
       "      <th>1</th>\n",
       "      <td>5081</td>\n",
       "      <td>1</td>\n",
       "      <td>-0.061254</td>\n",
       "      <td>-1.605868</td>\n",
       "      <td>1.985340</td>\n",
       "      <td>-1.282324</td>\n",
       "      <td>-0.029624</td>\n",
       "      <td>1.297914</td>\n",
       "    </tr>\n",
       "    <tr>\n",
       "      <th>2</th>\n",
       "      <td>8976</td>\n",
       "      <td>1</td>\n",
       "      <td>-1.981546</td>\n",
       "      <td>-0.039258</td>\n",
       "      <td>2.531585</td>\n",
       "      <td>-0.144773</td>\n",
       "      <td>0.140436</td>\n",
       "      <td>-0.000529</td>\n",
       "    </tr>\n",
       "    <tr>\n",
       "      <th>3</th>\n",
       "      <td>5319</td>\n",
       "      <td>1</td>\n",
       "      <td>0.078802</td>\n",
       "      <td>0.710927</td>\n",
       "      <td>-0.935010</td>\n",
       "      <td>1.413691</td>\n",
       "      <td>0.148584</td>\n",
       "      <td>-1.549449</td>\n",
       "    </tr>\n",
       "    <tr>\n",
       "      <th>4</th>\n",
       "      <td>1390</td>\n",
       "      <td>1</td>\n",
       "      <td>-1.670122</td>\n",
       "      <td>0.062302</td>\n",
       "      <td>-0.186400</td>\n",
       "      <td>-0.683960</td>\n",
       "      <td>1.571532</td>\n",
       "      <td>-0.931281</td>\n",
       "    </tr>\n",
       "  </tbody>\n",
       "</table>\n",
       "</div>"
      ],
      "text/plain": [
       "   index  output        Ia        Ib        Ic        Va        Vb        Vc\n",
       "0   6137       0  0.110021 -0.029281 -0.098232  1.135295  0.560390 -1.695449\n",
       "1   5081       1 -0.061254 -1.605868  1.985340 -1.282324 -0.029624  1.297914\n",
       "2   8976       1 -1.981546 -0.039258  2.531585 -0.144773  0.140436 -0.000529\n",
       "3   5319       1  0.078802  0.710927 -0.935010  1.413691  0.148584 -1.549449\n",
       "4   1390       1 -1.670122  0.062302 -0.186400 -0.683960  1.571532 -0.931281"
      ]
     },
     "metadata": {},
     "output_type": "display_data"
    }
   ],
   "source": [
    "df_train = pd.read_csv(f'../../data/processed/df_train_{nb_version}.csv', index_col=[0])\n",
    "df_test = pd.read_csv(f'../../data/processed/df_test_{nb_version}.csv', index_col=[0])\n",
    "display(f'Train: {df_train.shape}', df_train.head(), f'Test: {df_test.shape}', df_test.head())"
   ]
  },
  {
   "cell_type": "code",
   "execution_count": 4,
   "metadata": {},
   "outputs": [],
   "source": [
    "X_train = df_train.drop(['index','output'], axis=1)\n",
    "Y_train = df_train['output']\n",
    "X_test = df_test.drop(['index','output'], axis=1)\n",
    "Y_test = df_test['output']"
   ]
  },
  {
   "cell_type": "code",
   "execution_count": 5,
   "metadata": {},
   "outputs": [
    {
     "name": "stdout",
     "output_type": "stream",
     "text": [
      "Model: \"sequential\"\n",
      "_________________________________________________________________\n",
      " Layer (type)                Output Shape              Param #   \n",
      "=================================================================\n",
      " dense (Dense)               (None, 6)                 42        \n",
      "                                                                 \n",
      " dense_1 (Dense)             (None, 6)                 42        \n",
      "                                                                 \n",
      " dense_2 (Dense)             (None, 1)                 7         \n",
      "                                                                 \n",
      "=================================================================\n",
      "Total params: 91\n",
      "Trainable params: 91\n",
      "Non-trainable params: 0\n",
      "_________________________________________________________________\n"
     ]
    }
   ],
   "source": [
    "model_ann = Sequential()\n",
    "model_ann.add(Dense(units=6, activation='relu', input_shape=(6,)))\n",
    "model_ann.add(Dense(units=6, activation='relu'))\n",
    "model_ann.add(Dense(units=1, activation='sigmoid'))\n",
    "model_ann.compile(optimizer='adam', loss='binary_crossentropy', metrics=['accuracy'])\n",
    "model_ann.summary()"
   ]
  },
  {
   "cell_type": "code",
   "execution_count": 6,
   "metadata": {},
   "outputs": [
    {
     "name": "stdout",
     "output_type": "stream",
     "text": [
      "Epoch 1/100\n",
      "263/263 [==============================] - 3s 6ms/step - loss: 0.6035 - accuracy: 0.6599 - val_loss: 0.4979 - val_accuracy: 0.8128\n",
      "Epoch 2/100\n",
      "263/263 [==============================] - 1s 3ms/step - loss: 0.4001 - accuracy: 0.8912 - val_loss: 0.3137 - val_accuracy: 0.9125\n",
      "Epoch 3/100\n",
      "263/263 [==============================] - 1s 3ms/step - loss: 0.2531 - accuracy: 0.9299 - val_loss: 0.2111 - val_accuracy: 0.9353\n",
      "Epoch 4/100\n",
      "263/263 [==============================] - 1s 3ms/step - loss: 0.1720 - accuracy: 0.9498 - val_loss: 0.1466 - val_accuracy: 0.9517\n",
      "Epoch 5/100\n",
      "263/263 [==============================] - 1s 3ms/step - loss: 0.1190 - accuracy: 0.9642 - val_loss: 0.1088 - val_accuracy: 0.9603\n",
      "Epoch 6/100\n",
      "263/263 [==============================] - 1s 5ms/step - loss: 0.0907 - accuracy: 0.9720 - val_loss: 0.0879 - val_accuracy: 0.9692\n",
      "Epoch 7/100\n",
      "263/263 [==============================] - 1s 4ms/step - loss: 0.0750 - accuracy: 0.9768 - val_loss: 0.0767 - val_accuracy: 0.9720\n",
      "Epoch 8/100\n",
      "263/263 [==============================] - 1s 5ms/step - loss: 0.0647 - accuracy: 0.9787 - val_loss: 0.0660 - val_accuracy: 0.9767\n",
      "Epoch 9/100\n",
      "263/263 [==============================] - 1s 5ms/step - loss: 0.0571 - accuracy: 0.9813 - val_loss: 0.0591 - val_accuracy: 0.9795\n",
      "Epoch 10/100\n",
      "263/263 [==============================] - 1s 5ms/step - loss: 0.0514 - accuracy: 0.9825 - val_loss: 0.0545 - val_accuracy: 0.9806\n",
      "Epoch 11/100\n",
      "263/263 [==============================] - 1s 4ms/step - loss: 0.0473 - accuracy: 0.9840 - val_loss: 0.0490 - val_accuracy: 0.9822\n",
      "Epoch 12/100\n",
      "263/263 [==============================] - 2s 6ms/step - loss: 0.0436 - accuracy: 0.9848 - val_loss: 0.0449 - val_accuracy: 0.9847\n",
      "Epoch 13/100\n",
      "263/263 [==============================] - 1s 5ms/step - loss: 0.0410 - accuracy: 0.9856 - val_loss: 0.0412 - val_accuracy: 0.9858\n",
      "Epoch 14/100\n",
      "263/263 [==============================] - 1s 4ms/step - loss: 0.0384 - accuracy: 0.9871 - val_loss: 0.0385 - val_accuracy: 0.9867\n",
      "Epoch 15/100\n",
      "263/263 [==============================] - 1s 5ms/step - loss: 0.0361 - accuracy: 0.9869 - val_loss: 0.0364 - val_accuracy: 0.9869\n",
      "Epoch 16/100\n",
      "263/263 [==============================] - 1s 3ms/step - loss: 0.0346 - accuracy: 0.9875 - val_loss: 0.0335 - val_accuracy: 0.9875\n",
      "Epoch 17/100\n",
      "263/263 [==============================] - 1s 4ms/step - loss: 0.0325 - accuracy: 0.9890 - val_loss: 0.0325 - val_accuracy: 0.9883\n",
      "Epoch 18/100\n",
      "263/263 [==============================] - 1s 4ms/step - loss: 0.0313 - accuracy: 0.9886 - val_loss: 0.0302 - val_accuracy: 0.9908\n",
      "Epoch 19/100\n",
      "263/263 [==============================] - 1s 4ms/step - loss: 0.0303 - accuracy: 0.9889 - val_loss: 0.0286 - val_accuracy: 0.9897\n",
      "Epoch 20/100\n",
      "263/263 [==============================] - 1s 5ms/step - loss: 0.0294 - accuracy: 0.9886 - val_loss: 0.0282 - val_accuracy: 0.9908\n",
      "Epoch 21/100\n",
      "263/263 [==============================] - 1s 4ms/step - loss: 0.0285 - accuracy: 0.9900 - val_loss: 0.0266 - val_accuracy: 0.9911\n",
      "Epoch 22/100\n",
      "263/263 [==============================] - 1s 4ms/step - loss: 0.0277 - accuracy: 0.9898 - val_loss: 0.0258 - val_accuracy: 0.9919\n",
      "Epoch 23/100\n",
      "263/263 [==============================] - 1s 5ms/step - loss: 0.0270 - accuracy: 0.9901 - val_loss: 0.0248 - val_accuracy: 0.9917\n",
      "Epoch 24/100\n",
      "263/263 [==============================] - 1s 5ms/step - loss: 0.0262 - accuracy: 0.9900 - val_loss: 0.0243 - val_accuracy: 0.9917\n",
      "Epoch 25/100\n",
      "263/263 [==============================] - 1s 4ms/step - loss: 0.0257 - accuracy: 0.9905 - val_loss: 0.0233 - val_accuracy: 0.9928\n",
      "Epoch 26/100\n",
      "263/263 [==============================] - 1s 4ms/step - loss: 0.0250 - accuracy: 0.9906 - val_loss: 0.0235 - val_accuracy: 0.9936\n",
      "Epoch 27/100\n",
      "263/263 [==============================] - 1s 4ms/step - loss: 0.0247 - accuracy: 0.9907 - val_loss: 0.0222 - val_accuracy: 0.9922\n",
      "Epoch 28/100\n",
      "263/263 [==============================] - 1s 4ms/step - loss: 0.0240 - accuracy: 0.9907 - val_loss: 0.0219 - val_accuracy: 0.9922\n",
      "Epoch 29/100\n",
      "263/263 [==============================] - 1s 4ms/step - loss: 0.0237 - accuracy: 0.9911 - val_loss: 0.0214 - val_accuracy: 0.9919\n",
      "Epoch 30/100\n",
      "263/263 [==============================] - 1s 5ms/step - loss: 0.0232 - accuracy: 0.9914 - val_loss: 0.0207 - val_accuracy: 0.9928\n",
      "Epoch 31/100\n",
      "263/263 [==============================] - 1s 4ms/step - loss: 0.0227 - accuracy: 0.9912 - val_loss: 0.0211 - val_accuracy: 0.9928\n",
      "Epoch 32/100\n",
      "263/263 [==============================] - 1s 4ms/step - loss: 0.0223 - accuracy: 0.9913 - val_loss: 0.0205 - val_accuracy: 0.9936\n",
      "Epoch 33/100\n",
      "263/263 [==============================] - 1s 4ms/step - loss: 0.0220 - accuracy: 0.9920 - val_loss: 0.0212 - val_accuracy: 0.9928\n",
      "Epoch 34/100\n",
      "263/263 [==============================] - 1s 4ms/step - loss: 0.0215 - accuracy: 0.9915 - val_loss: 0.0203 - val_accuracy: 0.9933\n",
      "Epoch 35/100\n",
      "263/263 [==============================] - 1s 4ms/step - loss: 0.0215 - accuracy: 0.9923 - val_loss: 0.0200 - val_accuracy: 0.9928\n",
      "Epoch 36/100\n",
      "263/263 [==============================] - 1s 5ms/step - loss: 0.0213 - accuracy: 0.9917 - val_loss: 0.0200 - val_accuracy: 0.9919\n",
      "Epoch 37/100\n",
      "263/263 [==============================] - 1s 4ms/step - loss: 0.0209 - accuracy: 0.9915 - val_loss: 0.0197 - val_accuracy: 0.9925\n",
      "Epoch 38/100\n",
      "263/263 [==============================] - 1s 4ms/step - loss: 0.0205 - accuracy: 0.9918 - val_loss: 0.0196 - val_accuracy: 0.9925\n",
      "Epoch 39/100\n",
      "263/263 [==============================] - 1s 4ms/step - loss: 0.0205 - accuracy: 0.9919 - val_loss: 0.0185 - val_accuracy: 0.9936\n",
      "Epoch 40/100\n",
      "263/263 [==============================] - 1s 5ms/step - loss: 0.0203 - accuracy: 0.9920 - val_loss: 0.0185 - val_accuracy: 0.9931\n",
      "Epoch 41/100\n",
      "263/263 [==============================] - 1s 4ms/step - loss: 0.0200 - accuracy: 0.9925 - val_loss: 0.0200 - val_accuracy: 0.9928\n",
      "Epoch 42/100\n",
      "263/263 [==============================] - 1s 4ms/step - loss: 0.0201 - accuracy: 0.9925 - val_loss: 0.0197 - val_accuracy: 0.9919\n",
      "Epoch 43/100\n",
      "263/263 [==============================] - 1s 5ms/step - loss: 0.0197 - accuracy: 0.9920 - val_loss: 0.0198 - val_accuracy: 0.9922\n",
      "Epoch 44/100\n",
      "263/263 [==============================] - 1s 6ms/step - loss: 0.0196 - accuracy: 0.9921 - val_loss: 0.0183 - val_accuracy: 0.9928\n",
      "Epoch 45/100\n",
      "263/263 [==============================] - 2s 7ms/step - loss: 0.0192 - accuracy: 0.9920 - val_loss: 0.0175 - val_accuracy: 0.9933\n",
      "Epoch 46/100\n",
      "263/263 [==============================] - 1s 6ms/step - loss: 0.0192 - accuracy: 0.9927 - val_loss: 0.0173 - val_accuracy: 0.9936\n",
      "Epoch 47/100\n",
      "263/263 [==============================] - 1s 4ms/step - loss: 0.0190 - accuracy: 0.9926 - val_loss: 0.0178 - val_accuracy: 0.9925\n",
      "Epoch 48/100\n",
      "263/263 [==============================] - 1s 3ms/step - loss: 0.0188 - accuracy: 0.9927 - val_loss: 0.0184 - val_accuracy: 0.9922\n",
      "Epoch 49/100\n",
      "263/263 [==============================] - 1s 3ms/step - loss: 0.0183 - accuracy: 0.9925 - val_loss: 0.0174 - val_accuracy: 0.9939\n",
      "Epoch 50/100\n",
      "263/263 [==============================] - 1s 4ms/step - loss: 0.0184 - accuracy: 0.9929 - val_loss: 0.0172 - val_accuracy: 0.9939\n",
      "Epoch 51/100\n",
      "263/263 [==============================] - 1s 4ms/step - loss: 0.0184 - accuracy: 0.9929 - val_loss: 0.0177 - val_accuracy: 0.9925\n",
      "Epoch 52/100\n",
      "263/263 [==============================] - 1s 3ms/step - loss: 0.0182 - accuracy: 0.9926 - val_loss: 0.0163 - val_accuracy: 0.9942\n",
      "Epoch 53/100\n",
      "263/263 [==============================] - 1s 4ms/step - loss: 0.0180 - accuracy: 0.9929 - val_loss: 0.0171 - val_accuracy: 0.9928\n",
      "Epoch 54/100\n",
      "263/263 [==============================] - 1s 3ms/step - loss: 0.0177 - accuracy: 0.9930 - val_loss: 0.0167 - val_accuracy: 0.9947\n",
      "Epoch 55/100\n",
      "263/263 [==============================] - 1s 3ms/step - loss: 0.0180 - accuracy: 0.9932 - val_loss: 0.0160 - val_accuracy: 0.9942\n",
      "Epoch 56/100\n",
      "263/263 [==============================] - 1s 3ms/step - loss: 0.0175 - accuracy: 0.9931 - val_loss: 0.0158 - val_accuracy: 0.9936\n",
      "Epoch 57/100\n",
      "263/263 [==============================] - 1s 3ms/step - loss: 0.0173 - accuracy: 0.9930 - val_loss: 0.0165 - val_accuracy: 0.9936\n",
      "Epoch 58/100\n",
      "263/263 [==============================] - 1s 4ms/step - loss: 0.0175 - accuracy: 0.9931 - val_loss: 0.0164 - val_accuracy: 0.9939\n",
      "Epoch 59/100\n",
      "263/263 [==============================] - 1s 4ms/step - loss: 0.0173 - accuracy: 0.9932 - val_loss: 0.0155 - val_accuracy: 0.9936\n",
      "Epoch 60/100\n",
      "263/263 [==============================] - 1s 5ms/step - loss: 0.0171 - accuracy: 0.9930 - val_loss: 0.0158 - val_accuracy: 0.9936\n",
      "Epoch 61/100\n",
      "263/263 [==============================] - 1s 3ms/step - loss: 0.0169 - accuracy: 0.9927 - val_loss: 0.0161 - val_accuracy: 0.9933\n",
      "Epoch 62/100\n",
      "263/263 [==============================] - 1s 3ms/step - loss: 0.0169 - accuracy: 0.9933 - val_loss: 0.0162 - val_accuracy: 0.9936\n",
      "Epoch 63/100\n",
      "263/263 [==============================] - 1s 4ms/step - loss: 0.0172 - accuracy: 0.9930 - val_loss: 0.0154 - val_accuracy: 0.9936\n",
      "Epoch 64/100\n",
      "263/263 [==============================] - 1s 3ms/step - loss: 0.0168 - accuracy: 0.9932 - val_loss: 0.0152 - val_accuracy: 0.9939\n",
      "Epoch 65/100\n",
      "263/263 [==============================] - 1s 3ms/step - loss: 0.0169 - accuracy: 0.9935 - val_loss: 0.0156 - val_accuracy: 0.9942\n",
      "Epoch 66/100\n",
      "263/263 [==============================] - 1s 4ms/step - loss: 0.0165 - accuracy: 0.9930 - val_loss: 0.0154 - val_accuracy: 0.9939\n",
      "Epoch 67/100\n",
      "263/263 [==============================] - 1s 3ms/step - loss: 0.0168 - accuracy: 0.9932 - val_loss: 0.0154 - val_accuracy: 0.9939\n",
      "Epoch 68/100\n",
      "263/263 [==============================] - 1s 3ms/step - loss: 0.0164 - accuracy: 0.9927 - val_loss: 0.0154 - val_accuracy: 0.9947\n",
      "Epoch 69/100\n",
      "263/263 [==============================] - 1s 3ms/step - loss: 0.0166 - accuracy: 0.9933 - val_loss: 0.0150 - val_accuracy: 0.9939\n",
      "Epoch 70/100\n",
      "263/263 [==============================] - 1s 4ms/step - loss: 0.0160 - accuracy: 0.9932 - val_loss: 0.0150 - val_accuracy: 0.9939\n",
      "Epoch 71/100\n",
      "263/263 [==============================] - 1s 3ms/step - loss: 0.0160 - accuracy: 0.9936 - val_loss: 0.0151 - val_accuracy: 0.9939\n",
      "Epoch 72/100\n",
      "263/263 [==============================] - 1s 3ms/step - loss: 0.0161 - accuracy: 0.9935 - val_loss: 0.0158 - val_accuracy: 0.9936\n",
      "Epoch 73/100\n",
      "263/263 [==============================] - 1s 4ms/step - loss: 0.0158 - accuracy: 0.9933 - val_loss: 0.0154 - val_accuracy: 0.9947\n",
      "Epoch 74/100\n",
      "263/263 [==============================] - 1s 3ms/step - loss: 0.0155 - accuracy: 0.9937 - val_loss: 0.0168 - val_accuracy: 0.9933\n",
      "Epoch 75/100\n",
      "263/263 [==============================] - 1s 3ms/step - loss: 0.0158 - accuracy: 0.9936 - val_loss: 0.0151 - val_accuracy: 0.9936\n",
      "Epoch 76/100\n",
      "263/263 [==============================] - 1s 3ms/step - loss: 0.0159 - accuracy: 0.9927 - val_loss: 0.0144 - val_accuracy: 0.9947\n",
      "Epoch 77/100\n",
      "263/263 [==============================] - 1s 3ms/step - loss: 0.0155 - accuracy: 0.9933 - val_loss: 0.0154 - val_accuracy: 0.9939\n",
      "Epoch 78/100\n",
      "263/263 [==============================] - 1s 3ms/step - loss: 0.0153 - accuracy: 0.9935 - val_loss: 0.0153 - val_accuracy: 0.9936\n",
      "Epoch 79/100\n",
      "263/263 [==============================] - 1s 3ms/step - loss: 0.0158 - accuracy: 0.9936 - val_loss: 0.0145 - val_accuracy: 0.9947\n",
      "Epoch 80/100\n",
      "263/263 [==============================] - 1s 3ms/step - loss: 0.0151 - accuracy: 0.9938 - val_loss: 0.0149 - val_accuracy: 0.9942\n",
      "Epoch 81/100\n",
      "263/263 [==============================] - 1s 4ms/step - loss: 0.0152 - accuracy: 0.9936 - val_loss: 0.0147 - val_accuracy: 0.9944\n",
      "Epoch 82/100\n",
      "263/263 [==============================] - 1s 3ms/step - loss: 0.0160 - accuracy: 0.9929 - val_loss: 0.0146 - val_accuracy: 0.9956\n",
      "Epoch 83/100\n",
      "263/263 [==============================] - 1s 3ms/step - loss: 0.0150 - accuracy: 0.9936 - val_loss: 0.0142 - val_accuracy: 0.9944\n",
      "Epoch 84/100\n",
      "263/263 [==============================] - 1s 3ms/step - loss: 0.0150 - accuracy: 0.9936 - val_loss: 0.0140 - val_accuracy: 0.9950\n",
      "Epoch 85/100\n",
      "263/263 [==============================] - 1s 3ms/step - loss: 0.0148 - accuracy: 0.9935 - val_loss: 0.0150 - val_accuracy: 0.9931\n",
      "Epoch 86/100\n",
      "263/263 [==============================] - 1s 4ms/step - loss: 0.0149 - accuracy: 0.9936 - val_loss: 0.0139 - val_accuracy: 0.9953\n",
      "Epoch 87/100\n",
      "263/263 [==============================] - 1s 3ms/step - loss: 0.0146 - accuracy: 0.9942 - val_loss: 0.0144 - val_accuracy: 0.9939\n",
      "Epoch 88/100\n",
      "263/263 [==============================] - 1s 3ms/step - loss: 0.0151 - accuracy: 0.9937 - val_loss: 0.0139 - val_accuracy: 0.9953\n",
      "Epoch 89/100\n",
      "263/263 [==============================] - 1s 3ms/step - loss: 0.0148 - accuracy: 0.9938 - val_loss: 0.0155 - val_accuracy: 0.9942\n",
      "Epoch 90/100\n",
      "263/263 [==============================] - 1s 3ms/step - loss: 0.0149 - accuracy: 0.9937 - val_loss: 0.0143 - val_accuracy: 0.9947\n",
      "Epoch 91/100\n",
      "263/263 [==============================] - 2s 6ms/step - loss: 0.0144 - accuracy: 0.9940 - val_loss: 0.0137 - val_accuracy: 0.9956\n",
      "Epoch 92/100\n",
      "263/263 [==============================] - 1s 3ms/step - loss: 0.0149 - accuracy: 0.9936 - val_loss: 0.0139 - val_accuracy: 0.9942\n",
      "Epoch 93/100\n",
      "263/263 [==============================] - 1s 4ms/step - loss: 0.0145 - accuracy: 0.9931 - val_loss: 0.0139 - val_accuracy: 0.9956\n",
      "Epoch 94/100\n",
      "263/263 [==============================] - 1s 4ms/step - loss: 0.0143 - accuracy: 0.9937 - val_loss: 0.0144 - val_accuracy: 0.9950\n",
      "Epoch 95/100\n",
      "263/263 [==============================] - 1s 4ms/step - loss: 0.0144 - accuracy: 0.9940 - val_loss: 0.0150 - val_accuracy: 0.9939\n",
      "Epoch 96/100\n",
      "263/263 [==============================] - 1s 4ms/step - loss: 0.0142 - accuracy: 0.9940 - val_loss: 0.0142 - val_accuracy: 0.9944\n",
      "Epoch 97/100\n",
      "263/263 [==============================] - 1s 5ms/step - loss: 0.0143 - accuracy: 0.9940 - val_loss: 0.0141 - val_accuracy: 0.9947\n",
      "Epoch 98/100\n",
      "263/263 [==============================] - 1s 4ms/step - loss: 0.0141 - accuracy: 0.9939 - val_loss: 0.0134 - val_accuracy: 0.9947\n",
      "Epoch 99/100\n",
      "263/263 [==============================] - 1s 4ms/step - loss: 0.0143 - accuracy: 0.9940 - val_loss: 0.0137 - val_accuracy: 0.9950\n",
      "Epoch 100/100\n",
      "263/263 [==============================] - 1s 3ms/step - loss: 0.0140 - accuracy: 0.9938 - val_loss: 0.0135 - val_accuracy: 0.9947\n"
     ]
    }
   ],
   "source": [
    "hist = model_ann.fit(X_train, Y_train, batch_size=32, epochs=100, validation_data=(X_test, Y_test))"
   ]
  },
  {
   "cell_type": "code",
   "execution_count": 7,
   "metadata": {},
   "outputs": [
    {
     "name": "stdout",
     "output_type": "stream",
     "text": [
      "Train loss: 0.013219590298831463\n",
      "Train acc: 0.9939285516738892\n",
      "Test loss: 0.013515863567590714\n",
      "Test acc: 0.9947236776351929\n"
     ]
    }
   ],
   "source": [
    "loss_train, acc_train = model_ann.evaluate(X_train, Y_train, verbose=0)\n",
    "print('Train loss:', loss_train)\n",
    "print('Train acc:', acc_train)\n",
    "loss_test, acc_test = model_ann.evaluate(X_test, Y_test, verbose=0)\n",
    "print('Test loss:', loss_test)\n",
    "print('Test acc:', acc_test)"
   ]
  },
  {
   "cell_type": "code",
   "execution_count": 8,
   "metadata": {},
   "outputs": [
    {
     "data": {
      "text/html": [
       "<div>\n",
       "<style scoped>\n",
       "    .dataframe tbody tr th:only-of-type {\n",
       "        vertical-align: middle;\n",
       "    }\n",
       "\n",
       "    .dataframe tbody tr th {\n",
       "        vertical-align: top;\n",
       "    }\n",
       "\n",
       "    .dataframe thead th {\n",
       "        text-align: right;\n",
       "    }\n",
       "</style>\n",
       "<table border=\"1\" class=\"dataframe\">\n",
       "  <thead>\n",
       "    <tr style=\"text-align: right;\">\n",
       "      <th></th>\n",
       "      <th>loss</th>\n",
       "      <th>accuracy</th>\n",
       "      <th>val_loss</th>\n",
       "      <th>val_accuracy</th>\n",
       "    </tr>\n",
       "  </thead>\n",
       "  <tbody>\n",
       "    <tr>\n",
       "      <th>0</th>\n",
       "      <td>0.603457</td>\n",
       "      <td>0.659881</td>\n",
       "      <td>0.497935</td>\n",
       "      <td>0.812830</td>\n",
       "    </tr>\n",
       "    <tr>\n",
       "      <th>1</th>\n",
       "      <td>0.400058</td>\n",
       "      <td>0.891190</td>\n",
       "      <td>0.313715</td>\n",
       "      <td>0.912524</td>\n",
       "    </tr>\n",
       "    <tr>\n",
       "      <th>2</th>\n",
       "      <td>0.253111</td>\n",
       "      <td>0.929881</td>\n",
       "      <td>0.211118</td>\n",
       "      <td>0.935296</td>\n",
       "    </tr>\n",
       "    <tr>\n",
       "      <th>3</th>\n",
       "      <td>0.172034</td>\n",
       "      <td>0.949762</td>\n",
       "      <td>0.146597</td>\n",
       "      <td>0.951680</td>\n",
       "    </tr>\n",
       "    <tr>\n",
       "      <th>4</th>\n",
       "      <td>0.118983</td>\n",
       "      <td>0.964167</td>\n",
       "      <td>0.108803</td>\n",
       "      <td>0.960289</td>\n",
       "    </tr>\n",
       "    <tr>\n",
       "      <th>...</th>\n",
       "      <td>...</td>\n",
       "      <td>...</td>\n",
       "      <td>...</td>\n",
       "      <td>...</td>\n",
       "    </tr>\n",
       "    <tr>\n",
       "      <th>95</th>\n",
       "      <td>0.014212</td>\n",
       "      <td>0.994048</td>\n",
       "      <td>0.014205</td>\n",
       "      <td>0.994446</td>\n",
       "    </tr>\n",
       "    <tr>\n",
       "      <th>96</th>\n",
       "      <td>0.014341</td>\n",
       "      <td>0.994048</td>\n",
       "      <td>0.014070</td>\n",
       "      <td>0.994724</td>\n",
       "    </tr>\n",
       "    <tr>\n",
       "      <th>97</th>\n",
       "      <td>0.014138</td>\n",
       "      <td>0.993929</td>\n",
       "      <td>0.013388</td>\n",
       "      <td>0.994724</td>\n",
       "    </tr>\n",
       "    <tr>\n",
       "      <th>98</th>\n",
       "      <td>0.014303</td>\n",
       "      <td>0.994048</td>\n",
       "      <td>0.013713</td>\n",
       "      <td>0.995001</td>\n",
       "    </tr>\n",
       "    <tr>\n",
       "      <th>99</th>\n",
       "      <td>0.013995</td>\n",
       "      <td>0.993810</td>\n",
       "      <td>0.013516</td>\n",
       "      <td>0.994724</td>\n",
       "    </tr>\n",
       "  </tbody>\n",
       "</table>\n",
       "<p>100 rows × 4 columns</p>\n",
       "</div>"
      ],
      "text/plain": [
       "        loss  accuracy  val_loss  val_accuracy\n",
       "0   0.603457  0.659881  0.497935      0.812830\n",
       "1   0.400058  0.891190  0.313715      0.912524\n",
       "2   0.253111  0.929881  0.211118      0.935296\n",
       "3   0.172034  0.949762  0.146597      0.951680\n",
       "4   0.118983  0.964167  0.108803      0.960289\n",
       "..       ...       ...       ...           ...\n",
       "95  0.014212  0.994048  0.014205      0.994446\n",
       "96  0.014341  0.994048  0.014070      0.994724\n",
       "97  0.014138  0.993929  0.013388      0.994724\n",
       "98  0.014303  0.994048  0.013713      0.995001\n",
       "99  0.013995  0.993810  0.013516      0.994724\n",
       "\n",
       "[100 rows x 4 columns]"
      ]
     },
     "execution_count": 8,
     "metadata": {},
     "output_type": "execute_result"
    }
   ],
   "source": [
    "losses = pd.DataFrame(hist.history)\n",
    "losses"
   ]
  },
  {
   "cell_type": "code",
   "execution_count": 9,
   "metadata": {},
   "outputs": [
    {
     "data": {
      "image/png": "[encoded data removed]",
      "text/plain": [
       "<Figure size 432x288 with 1 Axes>"
      ]
     },
     "metadata": {},
     "output_type": "display_data"
    }
   ],
   "source": [
    "plt.plot(hist.history['accuracy'])\n",
    "plt.plot(hist.history['val_accuracy'])\n",
    "plt.title('Accuracy per Epoch')\n",
    "plt.xlabel('Epochs')\n",
    "plt.ylabel('Accuracy')\n",
    "plt.legend(['train', 'validation'])\n",
    "plt.show()"
   ]
  },
  {
   "cell_type": "code",
   "execution_count": 10,
   "metadata": {},
   "outputs": [
    {
     "data": {
      "image/png": "[encoded data removed]",
      "text/plain": [
       "<Figure size 432x288 with 1 Axes>"
      ]
     },
     "metadata": {},
     "output_type": "display_data"
    }
   ],
   "source": [
    "plt.plot(hist.history['loss'])\n",
    "plt.plot(hist.history['val_loss'])\n",
    "plt.title('Loss per Epoch')\n",
    "plt.xlabel('Epochs')\n",
    "plt.ylabel('Loss')\n",
    "plt.legend(['train', 'validation'])\n",
    "plt.show()"
   ]
  },
  {
   "cell_type": "code",
   "execution_count": 11,
   "metadata": {},
   "outputs": [
    {
     "name": "stdout",
     "output_type": "stream",
     "text": [
      "263/263 [==============================] - 1s 2ms/step\n",
      "113/113 [==============================] - 0s 2ms/step\n"
     ]
    }
   ],
   "source": [
    "Y_train_pred = model_ann.predict(X_train)\n",
    "Y_test_pred = model_ann.predict(X_test)\n",
    "Y_train_pred = np.where(Y_train_pred < 0.5, 0, 1)\n",
    "Y_test_pred = np.where(Y_test_pred < 0.5, 0, 1)\n",
    "Y_train_pred = np.reshape(Y_train_pred, len(Y_train_pred))\n",
    "Y_test_pred = np.reshape(Y_test_pred, len(Y_test_pred))\n",
    "cmf_train = confusion_matrix(Y_train, Y_train_pred)\n",
    "cmf_test = confusion_matrix(Y_test, Y_test_pred)"
   ]
  },
  {
   "cell_type": "code",
   "execution_count": 12,
   "metadata": {},
   "outputs": [
    {
     "data": {
      "text/plain": [
       "Text(0.5, 1.0, 'Confusion Matrix from Training Set')"
      ]
     },
     "execution_count": 12,
     "metadata": {},
     "output_type": "execute_result"
    },
    {
     "data": {
      "image/png": "[encoded data removed]",
      "text/plain": [
       "<Figure size 504x288 with 2 Axes>"
      ]
     },
     "metadata": {},
     "output_type": "display_data"
    }
   ],
   "source": [
    "plt.figure(figsize=(7,4))\n",
    "sns.heatmap(cmf_train, annot=True, fmt='d', linecolor='gray')\n",
    "plt.xlabel('Predicted')\n",
    "plt.ylabel('Real')\n",
    "plt.title('Confusion Matrix from Training Set')"
   ]
  },
  {
   "cell_type": "code",
   "execution_count": 13,
   "metadata": {},
   "outputs": [
    {
     "name": "stdout",
     "output_type": "stream",
     "text": [
      "              precision    recall  f1-score   support\n",
      "\n",
      "           0       0.99      1.00      0.99      4553\n",
      "           1       1.00      0.99      0.99      3847\n",
      "\n",
      "    accuracy                           0.99      8400\n",
      "   macro avg       0.99      0.99      0.99      8400\n",
      "weighted avg       0.99      0.99      0.99      8400\n",
      "\n"
     ]
    }
   ],
   "source": [
    "print(classification_report(Y_train, Y_train_pred), digits=5)"
   ]
  },
  {
   "cell_type": "code",
   "execution_count": 14,
   "metadata": {},
   "outputs": [
    {
     "data": {
      "text/plain": [
       "Text(0.5, 1.0, 'Confusion Matrix from Test Set')"
      ]
     },
     "execution_count": 14,
     "metadata": {},
     "output_type": "execute_result"
    },
    {
     "data": {
      "image/png": "[encoded data removed]",
      "text/plain": [
       "<Figure size 504x288 with 2 Axes>"
      ]
     },
     "metadata": {},
     "output_type": "display_data"
    }
   ],
   "source": [
    "plt.figure(figsize=(7,4))\n",
    "sns.heatmap(cmf_test, annot=True, fmt='d', linecolor='gray')\n",
    "plt.xlabel('Predicted')\n",
    "plt.ylabel('Real')\n",
    "plt.title('Confusion Matrix from Test Set')"
   ]
  },
  {
   "cell_type": "code",
   "execution_count": 15,
   "metadata": {},
   "outputs": [
    {
     "name": "stdout",
     "output_type": "stream",
     "text": [
      "              precision    recall  f1-score   support\n",
      "\n",
      "           0       0.99      1.00      1.00      1952\n",
      "           1       1.00      0.99      0.99      1649\n",
      "\n",
      "    accuracy                           0.99      3601\n",
      "   macro avg       0.99      0.99      0.99      3601\n",
      "weighted avg       0.99      0.99      0.99      3601\n",
      "\n"
     ]
    }
   ],
   "source": [
    "print(classification_report(Y_test, Y_test_pred), digits=5)"
   ]
  }
 ],
 "metadata": {
  "kernelspec": {
   "display_name": "Python 3.10.2 ('.venv': venv)",
   "language": "python",
   "name": "python3"
  },
  "language_info": {
   "codemirror_mode": {
    "name": "ipython",
    "version": 3
   },
   "file_extension": ".py",
   "mimetype": "text/x-python",
   "name": "python",
   "nbconvert_exporter": "python",
   "pygments_lexer": "ipython3",
   "version": "3.10.2"
  },
  "orig_nbformat": 4,
  "vscode": {
   "interpreter": {
    "hash": "fd63fbb4ffae6aa89dd8eeeb798614f517221e67db92ca128ae1e10493afb8b2"
   }
  }
 },
 "nbformat": 4,
 "nbformat_minor": 2
}
