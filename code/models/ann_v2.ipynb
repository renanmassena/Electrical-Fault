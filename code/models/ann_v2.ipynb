{
 "cells": [
  {
   "cell_type": "code",
   "execution_count": 1,
   "metadata": {},
   "outputs": [],
   "source": [
    "import numpy as np\n",
    "import pandas as pd\n",
    "import matplotlib.pyplot as plt\n",
    "import seaborn as sns\n",
    "from qbstyles import mpl_style; mpl_style(dark=True)\n",
    "from sklearn.metrics import confusion_matrix, accuracy_score, classification_report\n",
    "from tensorflow.keras.layers import Dense\n",
    "from tensorflow.keras.models import Sequential"
   ]
  },
  {
   "cell_type": "code",
   "execution_count": 2,
   "metadata": {},
   "outputs": [],
   "source": [
    "nb_version = \"v2\""
   ]
  },
  {
   "cell_type": "code",
   "execution_count": 3,
   "metadata": {},
   "outputs": [
    {
     "data": {
      "text/plain": [
       "'Train: (8400, 8)'"
      ]
     },
     "metadata": {},
     "output_type": "display_data"
    },
    {
     "data": {
      "text/html": [
       "<div>\n",
       "<style scoped>\n",
       "    .dataframe tbody tr th:only-of-type {\n",
       "        vertical-align: middle;\n",
       "    }\n",
       "\n",
       "    .dataframe tbody tr th {\n",
       "        vertical-align: top;\n",
       "    }\n",
       "\n",
       "    .dataframe thead th {\n",
       "        text-align: right;\n",
       "    }\n",
       "</style>\n",
       "<table border=\"1\" class=\"dataframe\">\n",
       "  <thead>\n",
       "    <tr style=\"text-align: right;\">\n",
       "      <th></th>\n",
       "      <th>index</th>\n",
       "      <th>output</th>\n",
       "      <th>Ia</th>\n",
       "      <th>Ib</th>\n",
       "      <th>Ic</th>\n",
       "      <th>Va</th>\n",
       "      <th>Vb</th>\n",
       "      <th>Vc</th>\n",
       "    </tr>\n",
       "  </thead>\n",
       "  <tbody>\n",
       "    <tr>\n",
       "      <th>0</th>\n",
       "      <td>11295</td>\n",
       "      <td>0</td>\n",
       "      <td>0.507946</td>\n",
       "      <td>0.485907</td>\n",
       "      <td>0.501921</td>\n",
       "      <td>0.979928</td>\n",
       "      <td>0.360361</td>\n",
       "      <td>0.183003</td>\n",
       "    </tr>\n",
       "    <tr>\n",
       "      <th>1</th>\n",
       "      <td>2656</td>\n",
       "      <td>1</td>\n",
       "      <td>0.628969</td>\n",
       "      <td>0.016439</td>\n",
       "      <td>0.466456</td>\n",
       "      <td>0.479691</td>\n",
       "      <td>0.630965</td>\n",
       "      <td>0.401669</td>\n",
       "    </tr>\n",
       "    <tr>\n",
       "      <th>2</th>\n",
       "      <td>166</td>\n",
       "      <td>0</td>\n",
       "      <td>0.535125</td>\n",
       "      <td>0.482859</td>\n",
       "      <td>0.479751</td>\n",
       "      <td>0.647257</td>\n",
       "      <td>0.834051</td>\n",
       "      <td>0.018610</td>\n",
       "    </tr>\n",
       "    <tr>\n",
       "      <th>3</th>\n",
       "      <td>9307</td>\n",
       "      <td>1</td>\n",
       "      <td>0.064725</td>\n",
       "      <td>0.928054</td>\n",
       "      <td>0.499483</td>\n",
       "      <td>0.505443</td>\n",
       "      <td>0.540413</td>\n",
       "      <td>0.471228</td>\n",
       "    </tr>\n",
       "    <tr>\n",
       "      <th>4</th>\n",
       "      <td>11780</td>\n",
       "      <td>0</td>\n",
       "      <td>0.530485</td>\n",
       "      <td>0.506889</td>\n",
       "      <td>0.458602</td>\n",
       "      <td>0.531000</td>\n",
       "      <td>0.915372</td>\n",
       "      <td>0.049988</td>\n",
       "    </tr>\n",
       "  </tbody>\n",
       "</table>\n",
       "</div>"
      ],
      "text/plain": [
       "   index  output        Ia        Ib        Ic        Va        Vb        Vc\n",
       "0  11295       0  0.507946  0.485907  0.501921  0.979928  0.360361  0.183003\n",
       "1   2656       1  0.628969  0.016439  0.466456  0.479691  0.630965  0.401669\n",
       "2    166       0  0.535125  0.482859  0.479751  0.647257  0.834051  0.018610\n",
       "3   9307       1  0.064725  0.928054  0.499483  0.505443  0.540413  0.471228\n",
       "4  11780       0  0.530485  0.506889  0.458602  0.531000  0.915372  0.049988"
      ]
     },
     "metadata": {},
     "output_type": "display_data"
    },
    {
     "data": {
      "text/plain": [
       "'Test: (3601, 8)'"
      ]
     },
     "metadata": {},
     "output_type": "display_data"
    },
    {
     "data": {
      "text/html": [
       "<div>\n",
       "<style scoped>\n",
       "    .dataframe tbody tr th:only-of-type {\n",
       "        vertical-align: middle;\n",
       "    }\n",
       "\n",
       "    .dataframe tbody tr th {\n",
       "        vertical-align: top;\n",
       "    }\n",
       "\n",
       "    .dataframe thead th {\n",
       "        text-align: right;\n",
       "    }\n",
       "</style>\n",
       "<table border=\"1\" class=\"dataframe\">\n",
       "  <thead>\n",
       "    <tr style=\"text-align: right;\">\n",
       "      <th></th>\n",
       "      <th>index</th>\n",
       "      <th>output</th>\n",
       "      <th>Ia</th>\n",
       "      <th>Ib</th>\n",
       "      <th>Ic</th>\n",
       "      <th>Va</th>\n",
       "      <th>Vb</th>\n",
       "      <th>Vc</th>\n",
       "    </tr>\n",
       "  </thead>\n",
       "  <tbody>\n",
       "    <tr>\n",
       "      <th>0</th>\n",
       "      <td>6137</td>\n",
       "      <td>0</td>\n",
       "      <td>0.526886</td>\n",
       "      <td>0.482403</td>\n",
       "      <td>0.489649</td>\n",
       "      <td>0.833690</td>\n",
       "      <td>0.657394</td>\n",
       "      <td>0.017071</td>\n",
       "    </tr>\n",
       "    <tr>\n",
       "      <th>1</th>\n",
       "      <td>5081</td>\n",
       "      <td>1</td>\n",
       "      <td>0.490184</td>\n",
       "      <td>0.167233</td>\n",
       "      <td>0.842303</td>\n",
       "      <td>0.155195</td>\n",
       "      <td>0.493709</td>\n",
       "      <td>0.873432</td>\n",
       "    </tr>\n",
       "    <tr>\n",
       "      <th>2</th>\n",
       "      <td>8976</td>\n",
       "      <td>1</td>\n",
       "      <td>0.078685</td>\n",
       "      <td>0.480408</td>\n",
       "      <td>0.934757</td>\n",
       "      <td>0.474444</td>\n",
       "      <td>0.540888</td>\n",
       "      <td>0.501965</td>\n",
       "    </tr>\n",
       "    <tr>\n",
       "      <th>3</th>\n",
       "      <td>5319</td>\n",
       "      <td>1</td>\n",
       "      <td>0.520196</td>\n",
       "      <td>0.630375</td>\n",
       "      <td>0.348021</td>\n",
       "      <td>0.911821</td>\n",
       "      <td>0.543148</td>\n",
       "      <td>0.058840</td>\n",
       "    </tr>\n",
       "    <tr>\n",
       "      <th>4</th>\n",
       "      <td>1390</td>\n",
       "      <td>1</td>\n",
       "      <td>0.145420</td>\n",
       "      <td>0.500711</td>\n",
       "      <td>0.474726</td>\n",
       "      <td>0.323123</td>\n",
       "      <td>0.937912</td>\n",
       "      <td>0.235689</td>\n",
       "    </tr>\n",
       "  </tbody>\n",
       "</table>\n",
       "</div>"
      ],
      "text/plain": [
       "   index  output        Ia        Ib        Ic        Va        Vb        Vc\n",
       "0   6137       0  0.526886  0.482403  0.489649  0.833690  0.657394  0.017071\n",
       "1   5081       1  0.490184  0.167233  0.842303  0.155195  0.493709  0.873432\n",
       "2   8976       1  0.078685  0.480408  0.934757  0.474444  0.540888  0.501965\n",
       "3   5319       1  0.520196  0.630375  0.348021  0.911821  0.543148  0.058840\n",
       "4   1390       1  0.145420  0.500711  0.474726  0.323123  0.937912  0.235689"
      ]
     },
     "metadata": {},
     "output_type": "display_data"
    }
   ],
   "source": [
    "df_train = pd.read_csv(f'../../data/processed/df_train_{nb_version}.csv', index_col=[0])\n",
    "df_test = pd.read_csv(f'../../data/processed/df_test_{nb_version}.csv', index_col=[0])\n",
    "display(f'Train: {df_train.shape}', df_train.head(), f'Test: {df_test.shape}', df_test.head())"
   ]
  },
  {
   "cell_type": "code",
   "execution_count": 4,
   "metadata": {},
   "outputs": [],
   "source": [
    "X_train = df_train.drop(['index','output'], axis=1)\n",
    "Y_train = df_train['output']\n",
    "X_test = df_test.drop(['index','output'], axis=1)\n",
    "Y_test = df_test['output']"
   ]
  },
  {
   "cell_type": "code",
   "execution_count": 5,
   "metadata": {},
   "outputs": [
    {
     "name": "stdout",
     "output_type": "stream",
     "text": [
      "Model: \"sequential\"\n",
      "_________________________________________________________________\n",
      " Layer (type)                Output Shape              Param #   \n",
      "=================================================================\n",
      " dense (Dense)               (None, 6)                 42        \n",
      "                                                                 \n",
      " dense_1 (Dense)             (None, 6)                 42        \n",
      "                                                                 \n",
      " dense_2 (Dense)             (None, 1)                 7         \n",
      "                                                                 \n",
      "=================================================================\n",
      "Total params: 91\n",
      "Trainable params: 91\n",
      "Non-trainable params: 0\n",
      "_________________________________________________________________\n"
     ]
    }
   ],
   "source": [
    "model_ann = Sequential()\n",
    "model_ann.add(Dense(units=6, activation='relu', input_shape=(6,)))\n",
    "model_ann.add(Dense(units=6, activation='relu'))\n",
    "model_ann.add(Dense(units=1, activation='sigmoid'))\n",
    "model_ann.compile(optimizer='adam', loss='binary_crossentropy', metrics=['accuracy'])\n",
    "model_ann.summary()"
   ]
  },
  {
   "cell_type": "code",
   "execution_count": 6,
   "metadata": {},
   "outputs": [
    {
     "name": "stdout",
     "output_type": "stream",
     "text": [
      "Epoch 1/100\n",
      "263/263 [==============================] - 6s 6ms/step - loss: 0.6596 - accuracy: 0.6290 - val_loss: 0.6267 - val_accuracy: 0.7067\n",
      "Epoch 2/100\n",
      "263/263 [==============================] - 1s 5ms/step - loss: 0.5931 - accuracy: 0.7080 - val_loss: 0.5653 - val_accuracy: 0.7054\n",
      "Epoch 3/100\n",
      "263/263 [==============================] - 1s 5ms/step - loss: 0.5310 - accuracy: 0.7102 - val_loss: 0.5066 - val_accuracy: 0.7045\n",
      "Epoch 4/100\n",
      "263/263 [==============================] - 1s 5ms/step - loss: 0.4753 - accuracy: 0.7267 - val_loss: 0.4540 - val_accuracy: 0.8112\n",
      "Epoch 5/100\n",
      "263/263 [==============================] - 1s 5ms/step - loss: 0.4239 - accuracy: 0.8361 - val_loss: 0.4067 - val_accuracy: 0.8639\n",
      "Epoch 6/100\n",
      "263/263 [==============================] - 1s 5ms/step - loss: 0.3786 - accuracy: 0.8758 - val_loss: 0.3666 - val_accuracy: 0.8709\n",
      "Epoch 7/100\n",
      "263/263 [==============================] - 1s 5ms/step - loss: 0.3411 - accuracy: 0.8937 - val_loss: 0.3338 - val_accuracy: 0.8961\n",
      "Epoch 8/100\n",
      "263/263 [==============================] - 1s 5ms/step - loss: 0.3089 - accuracy: 0.9067 - val_loss: 0.3025 - val_accuracy: 0.9122\n",
      "Epoch 9/100\n",
      "263/263 [==============================] - 1s 5ms/step - loss: 0.2814 - accuracy: 0.9170 - val_loss: 0.2755 - val_accuracy: 0.9178\n",
      "Epoch 10/100\n",
      "263/263 [==============================] - 1s 5ms/step - loss: 0.2582 - accuracy: 0.9248 - val_loss: 0.2540 - val_accuracy: 0.9289\n",
      "Epoch 11/100\n",
      "263/263 [==============================] - 1s 5ms/step - loss: 0.2384 - accuracy: 0.9333 - val_loss: 0.2344 - val_accuracy: 0.9286\n",
      "Epoch 12/100\n",
      "263/263 [==============================] - 1s 5ms/step - loss: 0.2214 - accuracy: 0.9373 - val_loss: 0.2185 - val_accuracy: 0.9381\n",
      "Epoch 13/100\n",
      "263/263 [==============================] - 1s 5ms/step - loss: 0.2071 - accuracy: 0.9420 - val_loss: 0.2051 - val_accuracy: 0.9370\n",
      "Epoch 14/100\n",
      "263/263 [==============================] - 1s 5ms/step - loss: 0.1940 - accuracy: 0.9457 - val_loss: 0.1930 - val_accuracy: 0.9414\n",
      "Epoch 15/100\n",
      "263/263 [==============================] - 1s 5ms/step - loss: 0.1828 - accuracy: 0.9477 - val_loss: 0.1817 - val_accuracy: 0.9495\n",
      "Epoch 16/100\n",
      "263/263 [==============================] - 1s 5ms/step - loss: 0.1737 - accuracy: 0.9519 - val_loss: 0.1727 - val_accuracy: 0.9478\n",
      "Epoch 17/100\n",
      "263/263 [==============================] - 1s 5ms/step - loss: 0.1647 - accuracy: 0.9544 - val_loss: 0.1668 - val_accuracy: 0.9495\n",
      "Epoch 18/100\n",
      "263/263 [==============================] - 1s 5ms/step - loss: 0.1577 - accuracy: 0.9557 - val_loss: 0.1597 - val_accuracy: 0.9486\n",
      "Epoch 19/100\n",
      "263/263 [==============================] - 1s 5ms/step - loss: 0.1507 - accuracy: 0.9570 - val_loss: 0.1506 - val_accuracy: 0.9567\n",
      "Epoch 20/100\n",
      "263/263 [==============================] - 1s 5ms/step - loss: 0.1449 - accuracy: 0.9589 - val_loss: 0.1458 - val_accuracy: 0.9564\n",
      "Epoch 21/100\n",
      "263/263 [==============================] - 1s 4ms/step - loss: 0.1393 - accuracy: 0.9587 - val_loss: 0.1421 - val_accuracy: 0.9578\n",
      "Epoch 22/100\n",
      "263/263 [==============================] - 1s 5ms/step - loss: 0.1346 - accuracy: 0.9602 - val_loss: 0.1342 - val_accuracy: 0.9589\n",
      "Epoch 23/100\n",
      "263/263 [==============================] - 2s 6ms/step - loss: 0.1300 - accuracy: 0.9611 - val_loss: 0.1315 - val_accuracy: 0.9633\n",
      "Epoch 24/100\n",
      "263/263 [==============================] - 1s 4ms/step - loss: 0.1261 - accuracy: 0.9623 - val_loss: 0.1270 - val_accuracy: 0.9625\n",
      "Epoch 25/100\n",
      "263/263 [==============================] - 1s 4ms/step - loss: 0.1224 - accuracy: 0.9633 - val_loss: 0.1232 - val_accuracy: 0.9642\n",
      "Epoch 26/100\n",
      "263/263 [==============================] - 1s 5ms/step - loss: 0.1190 - accuracy: 0.9640 - val_loss: 0.1186 - val_accuracy: 0.9650\n",
      "Epoch 27/100\n",
      "263/263 [==============================] - 1s 4ms/step - loss: 0.1160 - accuracy: 0.9650 - val_loss: 0.1160 - val_accuracy: 0.9645\n",
      "Epoch 28/100\n",
      "263/263 [==============================] - 1s 5ms/step - loss: 0.1134 - accuracy: 0.9652 - val_loss: 0.1137 - val_accuracy: 0.9667\n",
      "Epoch 29/100\n",
      "263/263 [==============================] - 1s 4ms/step - loss: 0.1106 - accuracy: 0.9657 - val_loss: 0.1103 - val_accuracy: 0.9686\n",
      "Epoch 30/100\n",
      "263/263 [==============================] - 1s 5ms/step - loss: 0.1086 - accuracy: 0.9669 - val_loss: 0.1096 - val_accuracy: 0.9692\n",
      "Epoch 31/100\n",
      "263/263 [==============================] - 1s 4ms/step - loss: 0.1062 - accuracy: 0.9671 - val_loss: 0.1077 - val_accuracy: 0.9692\n",
      "Epoch 32/100\n",
      "263/263 [==============================] - 1s 4ms/step - loss: 0.1040 - accuracy: 0.9676 - val_loss: 0.1050 - val_accuracy: 0.9706\n",
      "Epoch 33/100\n",
      "263/263 [==============================] - 1s 4ms/step - loss: 0.1028 - accuracy: 0.9688 - val_loss: 0.1037 - val_accuracy: 0.9689\n",
      "Epoch 34/100\n",
      "263/263 [==============================] - 1s 4ms/step - loss: 0.1009 - accuracy: 0.9686 - val_loss: 0.1031 - val_accuracy: 0.9703\n",
      "Epoch 35/100\n",
      "263/263 [==============================] - 1s 4ms/step - loss: 0.0987 - accuracy: 0.9690 - val_loss: 0.1023 - val_accuracy: 0.9686\n",
      "Epoch 36/100\n",
      "263/263 [==============================] - 1s 4ms/step - loss: 0.0973 - accuracy: 0.9701 - val_loss: 0.1012 - val_accuracy: 0.9692\n",
      "Epoch 37/100\n",
      "263/263 [==============================] - 1s 4ms/step - loss: 0.0959 - accuracy: 0.9702 - val_loss: 0.0994 - val_accuracy: 0.9708\n",
      "Epoch 38/100\n",
      "263/263 [==============================] - 1s 4ms/step - loss: 0.0945 - accuracy: 0.9711 - val_loss: 0.1006 - val_accuracy: 0.9700\n",
      "Epoch 39/100\n",
      "263/263 [==============================] - 1s 4ms/step - loss: 0.0934 - accuracy: 0.9710 - val_loss: 0.0972 - val_accuracy: 0.9714\n",
      "Epoch 40/100\n",
      "263/263 [==============================] - 1s 4ms/step - loss: 0.0924 - accuracy: 0.9715 - val_loss: 0.0962 - val_accuracy: 0.9725\n",
      "Epoch 41/100\n",
      "263/263 [==============================] - 1s 4ms/step - loss: 0.0918 - accuracy: 0.9710 - val_loss: 0.0958 - val_accuracy: 0.9711\n",
      "Epoch 42/100\n",
      "263/263 [==============================] - 1s 4ms/step - loss: 0.0895 - accuracy: 0.9720 - val_loss: 0.0982 - val_accuracy: 0.9711\n",
      "Epoch 43/100\n",
      "263/263 [==============================] - 1s 4ms/step - loss: 0.0889 - accuracy: 0.9724 - val_loss: 0.0953 - val_accuracy: 0.9692\n",
      "Epoch 44/100\n",
      "263/263 [==============================] - 1s 4ms/step - loss: 0.0885 - accuracy: 0.9718 - val_loss: 0.0929 - val_accuracy: 0.9717\n",
      "Epoch 45/100\n",
      "263/263 [==============================] - 1s 4ms/step - loss: 0.0870 - accuracy: 0.9729 - val_loss: 0.0950 - val_accuracy: 0.9714\n",
      "Epoch 46/100\n",
      "263/263 [==============================] - 1s 4ms/step - loss: 0.0867 - accuracy: 0.9724 - val_loss: 0.0913 - val_accuracy: 0.9728\n",
      "Epoch 47/100\n",
      "263/263 [==============================] - 1s 4ms/step - loss: 0.0864 - accuracy: 0.9730 - val_loss: 0.0932 - val_accuracy: 0.9728\n",
      "Epoch 48/100\n",
      "263/263 [==============================] - 1s 5ms/step - loss: 0.0851 - accuracy: 0.9732 - val_loss: 0.0890 - val_accuracy: 0.9745\n",
      "Epoch 49/100\n",
      "263/263 [==============================] - 1s 4ms/step - loss: 0.0847 - accuracy: 0.9737 - val_loss: 0.0928 - val_accuracy: 0.9714\n",
      "Epoch 50/100\n",
      "263/263 [==============================] - 1s 4ms/step - loss: 0.0836 - accuracy: 0.9733 - val_loss: 0.0887 - val_accuracy: 0.9750\n",
      "Epoch 51/100\n",
      "263/263 [==============================] - 1s 4ms/step - loss: 0.0835 - accuracy: 0.9731 - val_loss: 0.0895 - val_accuracy: 0.9750\n",
      "Epoch 52/100\n",
      "263/263 [==============================] - 1s 4ms/step - loss: 0.0830 - accuracy: 0.9742 - val_loss: 0.0878 - val_accuracy: 0.9747\n",
      "Epoch 53/100\n",
      "263/263 [==============================] - 1s 4ms/step - loss: 0.0820 - accuracy: 0.9748 - val_loss: 0.0899 - val_accuracy: 0.9717\n",
      "Epoch 54/100\n",
      "263/263 [==============================] - 1s 4ms/step - loss: 0.0820 - accuracy: 0.9736 - val_loss: 0.0857 - val_accuracy: 0.9753\n",
      "Epoch 55/100\n",
      "263/263 [==============================] - 1s 4ms/step - loss: 0.0809 - accuracy: 0.9748 - val_loss: 0.0850 - val_accuracy: 0.9745\n",
      "Epoch 56/100\n",
      "263/263 [==============================] - 1s 4ms/step - loss: 0.0803 - accuracy: 0.9745 - val_loss: 0.0860 - val_accuracy: 0.9753\n",
      "Epoch 57/100\n",
      "263/263 [==============================] - 1s 4ms/step - loss: 0.0799 - accuracy: 0.9751 - val_loss: 0.0847 - val_accuracy: 0.9753\n",
      "Epoch 58/100\n",
      "263/263 [==============================] - 1s 4ms/step - loss: 0.0798 - accuracy: 0.9751 - val_loss: 0.0934 - val_accuracy: 0.9725\n",
      "Epoch 59/100\n",
      "263/263 [==============================] - 1s 4ms/step - loss: 0.0798 - accuracy: 0.9756 - val_loss: 0.0841 - val_accuracy: 0.9761\n",
      "Epoch 60/100\n",
      "263/263 [==============================] - 1s 4ms/step - loss: 0.0792 - accuracy: 0.9754 - val_loss: 0.0872 - val_accuracy: 0.9753\n",
      "Epoch 61/100\n",
      "263/263 [==============================] - 1s 4ms/step - loss: 0.0789 - accuracy: 0.9760 - val_loss: 0.0826 - val_accuracy: 0.9753\n",
      "Epoch 62/100\n",
      "263/263 [==============================] - 1s 4ms/step - loss: 0.0776 - accuracy: 0.9757 - val_loss: 0.0825 - val_accuracy: 0.9764\n",
      "Epoch 63/100\n",
      "263/263 [==============================] - 1s 4ms/step - loss: 0.0777 - accuracy: 0.9755 - val_loss: 0.0823 - val_accuracy: 0.9758\n",
      "Epoch 64/100\n",
      "263/263 [==============================] - 1s 4ms/step - loss: 0.0771 - accuracy: 0.9756 - val_loss: 0.0808 - val_accuracy: 0.9764\n",
      "Epoch 65/100\n",
      "263/263 [==============================] - 1s 4ms/step - loss: 0.0769 - accuracy: 0.9762 - val_loss: 0.0823 - val_accuracy: 0.9761\n",
      "Epoch 66/100\n",
      "263/263 [==============================] - 1s 4ms/step - loss: 0.0764 - accuracy: 0.9763 - val_loss: 0.0806 - val_accuracy: 0.9764\n",
      "Epoch 67/100\n",
      "263/263 [==============================] - 1s 4ms/step - loss: 0.0769 - accuracy: 0.9761 - val_loss: 0.0802 - val_accuracy: 0.9761\n",
      "Epoch 68/100\n",
      "263/263 [==============================] - 1s 4ms/step - loss: 0.0759 - accuracy: 0.9765 - val_loss: 0.0812 - val_accuracy: 0.9764\n",
      "Epoch 69/100\n",
      "263/263 [==============================] - 1s 4ms/step - loss: 0.0756 - accuracy: 0.9761 - val_loss: 0.0819 - val_accuracy: 0.9767\n",
      "Epoch 70/100\n",
      "263/263 [==============================] - 1s 4ms/step - loss: 0.0757 - accuracy: 0.9770 - val_loss: 0.0796 - val_accuracy: 0.9758\n",
      "Epoch 71/100\n",
      "263/263 [==============================] - 1s 4ms/step - loss: 0.0752 - accuracy: 0.9763 - val_loss: 0.0789 - val_accuracy: 0.9770\n",
      "Epoch 72/100\n",
      "263/263 [==============================] - 1s 4ms/step - loss: 0.0750 - accuracy: 0.9776 - val_loss: 0.0785 - val_accuracy: 0.9770\n",
      "Epoch 73/100\n",
      "263/263 [==============================] - 1s 5ms/step - loss: 0.0745 - accuracy: 0.9770 - val_loss: 0.0785 - val_accuracy: 0.9778\n",
      "Epoch 74/100\n",
      "263/263 [==============================] - 1s 4ms/step - loss: 0.0744 - accuracy: 0.9770 - val_loss: 0.0786 - val_accuracy: 0.9770\n",
      "Epoch 75/100\n",
      "263/263 [==============================] - 1s 4ms/step - loss: 0.0739 - accuracy: 0.9781 - val_loss: 0.0778 - val_accuracy: 0.9764\n",
      "Epoch 76/100\n",
      "263/263 [==============================] - 1s 4ms/step - loss: 0.0742 - accuracy: 0.9771 - val_loss: 0.0786 - val_accuracy: 0.9781\n",
      "Epoch 77/100\n",
      "263/263 [==============================] - 1s 4ms/step - loss: 0.0747 - accuracy: 0.9779 - val_loss: 0.0788 - val_accuracy: 0.9767\n",
      "Epoch 78/100\n",
      "263/263 [==============================] - 1s 4ms/step - loss: 0.0733 - accuracy: 0.9776 - val_loss: 0.0791 - val_accuracy: 0.9781\n",
      "Epoch 79/100\n",
      "263/263 [==============================] - 1s 4ms/step - loss: 0.0733 - accuracy: 0.9779 - val_loss: 0.0788 - val_accuracy: 0.9764\n",
      "Epoch 80/100\n",
      "263/263 [==============================] - 1s 4ms/step - loss: 0.0736 - accuracy: 0.9776 - val_loss: 0.0789 - val_accuracy: 0.9770\n",
      "Epoch 81/100\n",
      "263/263 [==============================] - 1s 4ms/step - loss: 0.0731 - accuracy: 0.9782 - val_loss: 0.0774 - val_accuracy: 0.9770\n",
      "Epoch 82/100\n",
      "263/263 [==============================] - 1s 4ms/step - loss: 0.0732 - accuracy: 0.9780 - val_loss: 0.0779 - val_accuracy: 0.9767\n",
      "Epoch 83/100\n",
      "263/263 [==============================] - 1s 4ms/step - loss: 0.0720 - accuracy: 0.9779 - val_loss: 0.0773 - val_accuracy: 0.9775\n",
      "Epoch 84/100\n",
      "263/263 [==============================] - 1s 4ms/step - loss: 0.0723 - accuracy: 0.9780 - val_loss: 0.0787 - val_accuracy: 0.9767\n",
      "Epoch 85/100\n",
      "263/263 [==============================] - 1s 4ms/step - loss: 0.0721 - accuracy: 0.9785 - val_loss: 0.0771 - val_accuracy: 0.9767\n",
      "Epoch 86/100\n",
      "263/263 [==============================] - 1s 5ms/step - loss: 0.0723 - accuracy: 0.9782 - val_loss: 0.0771 - val_accuracy: 0.9764\n",
      "Epoch 87/100\n",
      "263/263 [==============================] - 2s 6ms/step - loss: 0.0717 - accuracy: 0.9782 - val_loss: 0.0799 - val_accuracy: 0.9795\n",
      "Epoch 88/100\n",
      "263/263 [==============================] - 1s 5ms/step - loss: 0.0726 - accuracy: 0.9782 - val_loss: 0.0814 - val_accuracy: 0.9783\n",
      "Epoch 89/100\n",
      "263/263 [==============================] - 1s 5ms/step - loss: 0.0714 - accuracy: 0.9786 - val_loss: 0.0774 - val_accuracy: 0.9786\n",
      "Epoch 90/100\n",
      "263/263 [==============================] - 1s 5ms/step - loss: 0.0716 - accuracy: 0.9792 - val_loss: 0.0762 - val_accuracy: 0.9783\n",
      "Epoch 91/100\n",
      "263/263 [==============================] - 1s 4ms/step - loss: 0.0708 - accuracy: 0.9789 - val_loss: 0.0778 - val_accuracy: 0.9792\n",
      "Epoch 92/100\n",
      "263/263 [==============================] - 1s 4ms/step - loss: 0.0710 - accuracy: 0.9785 - val_loss: 0.0768 - val_accuracy: 0.9767\n",
      "Epoch 93/100\n",
      "263/263 [==============================] - 1s 4ms/step - loss: 0.0713 - accuracy: 0.9789 - val_loss: 0.0816 - val_accuracy: 0.9770\n",
      "Epoch 94/100\n",
      "263/263 [==============================] - 1s 4ms/step - loss: 0.0707 - accuracy: 0.9788 - val_loss: 0.0758 - val_accuracy: 0.9786\n",
      "Epoch 95/100\n",
      "263/263 [==============================] - 1s 5ms/step - loss: 0.0706 - accuracy: 0.9793 - val_loss: 0.0775 - val_accuracy: 0.9772\n",
      "Epoch 96/100\n",
      "263/263 [==============================] - 1s 4ms/step - loss: 0.0705 - accuracy: 0.9792 - val_loss: 0.0749 - val_accuracy: 0.9783\n",
      "Epoch 97/100\n",
      "263/263 [==============================] - 1s 4ms/step - loss: 0.0704 - accuracy: 0.9793 - val_loss: 0.0757 - val_accuracy: 0.9781\n",
      "Epoch 98/100\n",
      "263/263 [==============================] - 1s 5ms/step - loss: 0.0706 - accuracy: 0.9787 - val_loss: 0.0776 - val_accuracy: 0.9800\n",
      "Epoch 99/100\n",
      "263/263 [==============================] - 1s 4ms/step - loss: 0.0705 - accuracy: 0.9792 - val_loss: 0.0754 - val_accuracy: 0.9772\n",
      "Epoch 100/100\n",
      "263/263 [==============================] - 1s 5ms/step - loss: 0.0704 - accuracy: 0.9793 - val_loss: 0.0749 - val_accuracy: 0.9778\n"
     ]
    }
   ],
   "source": [
    "hist = model_ann.fit(X_train, Y_train, batch_size=32, epochs=100, validation_data=(X_test, Y_test))"
   ]
  },
  {
   "cell_type": "code",
   "execution_count": 7,
   "metadata": {},
   "outputs": [
    {
     "name": "stdout",
     "output_type": "stream",
     "text": [
      "Train loss: 0.06848162412643433\n",
      "Train acc: 0.9796428680419922\n",
      "Test loss: 0.0749114528298378\n",
      "Test acc: 0.9777839779853821\n"
     ]
    }
   ],
   "source": [
    "loss_train, acc_train = model_ann.evaluate(X_train, Y_train, verbose=0)\n",
    "print('Train loss:', loss_train)\n",
    "print('Train acc:', acc_train)\n",
    "loss_test, acc_test = model_ann.evaluate(X_test, Y_test, verbose=0)\n",
    "print('Test loss:', loss_test)\n",
    "print('Test acc:', acc_test)"
   ]
  },
  {
   "cell_type": "code",
   "execution_count": 8,
   "metadata": {},
   "outputs": [
    {
     "data": {
      "text/html": [
       "<div>\n",
       "<style scoped>\n",
       "    .dataframe tbody tr th:only-of-type {\n",
       "        vertical-align: middle;\n",
       "    }\n",
       "\n",
       "    .dataframe tbody tr th {\n",
       "        vertical-align: top;\n",
       "    }\n",
       "\n",
       "    .dataframe thead th {\n",
       "        text-align: right;\n",
       "    }\n",
       "</style>\n",
       "<table border=\"1\" class=\"dataframe\">\n",
       "  <thead>\n",
       "    <tr style=\"text-align: right;\">\n",
       "      <th></th>\n",
       "      <th>loss</th>\n",
       "      <th>accuracy</th>\n",
       "      <th>val_loss</th>\n",
       "      <th>val_accuracy</th>\n",
       "    </tr>\n",
       "  </thead>\n",
       "  <tbody>\n",
       "    <tr>\n",
       "      <th>0</th>\n",
       "      <td>0.659615</td>\n",
       "      <td>0.629048</td>\n",
       "      <td>0.626732</td>\n",
       "      <td>0.706748</td>\n",
       "    </tr>\n",
       "    <tr>\n",
       "      <th>1</th>\n",
       "      <td>0.593122</td>\n",
       "      <td>0.707976</td>\n",
       "      <td>0.565320</td>\n",
       "      <td>0.705360</td>\n",
       "    </tr>\n",
       "    <tr>\n",
       "      <th>2</th>\n",
       "      <td>0.531013</td>\n",
       "      <td>0.710238</td>\n",
       "      <td>0.506647</td>\n",
       "      <td>0.704527</td>\n",
       "    </tr>\n",
       "    <tr>\n",
       "      <th>3</th>\n",
       "      <td>0.475258</td>\n",
       "      <td>0.726667</td>\n",
       "      <td>0.454006</td>\n",
       "      <td>0.811164</td>\n",
       "    </tr>\n",
       "    <tr>\n",
       "      <th>4</th>\n",
       "      <td>0.423872</td>\n",
       "      <td>0.836071</td>\n",
       "      <td>0.406704</td>\n",
       "      <td>0.863927</td>\n",
       "    </tr>\n",
       "    <tr>\n",
       "      <th>...</th>\n",
       "      <td>...</td>\n",
       "      <td>...</td>\n",
       "      <td>...</td>\n",
       "      <td>...</td>\n",
       "    </tr>\n",
       "    <tr>\n",
       "      <th>95</th>\n",
       "      <td>0.070486</td>\n",
       "      <td>0.979167</td>\n",
       "      <td>0.074894</td>\n",
       "      <td>0.978339</td>\n",
       "    </tr>\n",
       "    <tr>\n",
       "      <th>96</th>\n",
       "      <td>0.070390</td>\n",
       "      <td>0.979286</td>\n",
       "      <td>0.075721</td>\n",
       "      <td>0.978062</td>\n",
       "    </tr>\n",
       "    <tr>\n",
       "      <th>97</th>\n",
       "      <td>0.070650</td>\n",
       "      <td>0.978691</td>\n",
       "      <td>0.077579</td>\n",
       "      <td>0.980006</td>\n",
       "    </tr>\n",
       "    <tr>\n",
       "      <th>98</th>\n",
       "      <td>0.070510</td>\n",
       "      <td>0.979167</td>\n",
       "      <td>0.075381</td>\n",
       "      <td>0.977229</td>\n",
       "    </tr>\n",
       "    <tr>\n",
       "      <th>99</th>\n",
       "      <td>0.070393</td>\n",
       "      <td>0.979286</td>\n",
       "      <td>0.074911</td>\n",
       "      <td>0.977784</td>\n",
       "    </tr>\n",
       "  </tbody>\n",
       "</table>\n",
       "<p>100 rows × 4 columns</p>\n",
       "</div>"
      ],
      "text/plain": [
       "        loss  accuracy  val_loss  val_accuracy\n",
       "0   0.659615  0.629048  0.626732      0.706748\n",
       "1   0.593122  0.707976  0.565320      0.705360\n",
       "2   0.531013  0.710238  0.506647      0.704527\n",
       "3   0.475258  0.726667  0.454006      0.811164\n",
       "4   0.423872  0.836071  0.406704      0.863927\n",
       "..       ...       ...       ...           ...\n",
       "95  0.070486  0.979167  0.074894      0.978339\n",
       "96  0.070390  0.979286  0.075721      0.978062\n",
       "97  0.070650  0.978691  0.077579      0.980006\n",
       "98  0.070510  0.979167  0.075381      0.977229\n",
       "99  0.070393  0.979286  0.074911      0.977784\n",
       "\n",
       "[100 rows x 4 columns]"
      ]
     },
     "execution_count": 8,
     "metadata": {},
     "output_type": "execute_result"
    }
   ],
   "source": [
    "losses = pd.DataFrame(hist.history)\n",
    "losses"
   ]
  },
  {
   "cell_type": "code",
   "execution_count": 9,
   "metadata": {},
   "outputs": [
    {
     "data": {
      "image/png": "[encoded data removed]",
      "text/plain": [
       "<Figure size 432x288 with 1 Axes>"
      ]
     },
     "metadata": {},
     "output_type": "display_data"
    }
   ],
   "source": [
    "plt.plot(hist.history['accuracy'])\n",
    "plt.plot(hist.history['val_accuracy'])\n",
    "plt.title('Accuracy per Epoch')\n",
    "plt.xlabel('Epochs')\n",
    "plt.ylabel('Accuracy')\n",
    "plt.legend(['train', 'validation'])\n",
    "plt.show()"
   ]
  },
  {
   "cell_type": "code",
   "execution_count": 10,
   "metadata": {},
   "outputs": [
    {
     "data": {
      "image/png": "[encoded data removed]",
      "text/plain": [
       "<Figure size 432x288 with 1 Axes>"
      ]
     },
     "metadata": {},
     "output_type": "display_data"
    }
   ],
   "source": [
    "plt.plot(hist.history['loss'])\n",
    "plt.plot(hist.history['val_loss'])\n",
    "plt.title('Loss per Epoch')\n",
    "plt.xlabel('Epochs')\n",
    "plt.ylabel('Loss')\n",
    "plt.legend(['train', 'validation'])\n",
    "plt.show()"
   ]
  },
  {
   "cell_type": "code",
   "execution_count": 11,
   "metadata": {},
   "outputs": [
    {
     "name": "stdout",
     "output_type": "stream",
     "text": [
      "263/263 [==============================] - 1s 2ms/step\n",
      "113/113 [==============================] - 0s 2ms/step\n"
     ]
    }
   ],
   "source": [
    "Y_train_pred = model_ann.predict(X_train)\n",
    "Y_test_pred = model_ann.predict(X_test)\n",
    "Y_train_pred = np.where(Y_train_pred < 0.5, 0, 1)\n",
    "Y_test_pred = np.where(Y_test_pred < 0.5, 0, 1)\n",
    "Y_train_pred = np.reshape(Y_train_pred, len(Y_train_pred))\n",
    "Y_test_pred = np.reshape(Y_test_pred, len(Y_test_pred))\n",
    "cmf_train = confusion_matrix(Y_train, Y_train_pred)\n",
    "cmf_test = confusion_matrix(Y_test, Y_test_pred)"
   ]
  },
  {
   "cell_type": "code",
   "execution_count": 12,
   "metadata": {},
   "outputs": [
    {
     "data": {
      "text/plain": [
       "Text(0.5, 1.0, 'Confusion Matrix from Training Set')"
      ]
     },
     "execution_count": 12,
     "metadata": {},
     "output_type": "execute_result"
    },
    {
     "data": {
      "image/png": "[encoded data removed]",
      "text/plain": [
       "<Figure size 504x288 with 2 Axes>"
      ]
     },
     "metadata": {},
     "output_type": "display_data"
    }
   ],
   "source": [
    "plt.figure(figsize=(7,4))\n",
    "sns.heatmap(cmf_train, annot=True, fmt='d', linecolor='gray')\n",
    "plt.xlabel('Predicted')\n",
    "plt.ylabel('Real')\n",
    "plt.title('Confusion Matrix from Training Set')"
   ]
  },
  {
   "cell_type": "code",
   "execution_count": 13,
   "metadata": {},
   "outputs": [
    {
     "name": "stdout",
     "output_type": "stream",
     "text": [
      "              precision    recall  f1-score   support\n",
      "\n",
      "           0       0.97      1.00      0.98      4553\n",
      "           1       0.99      0.96      0.98      3847\n",
      "\n",
      "    accuracy                           0.98      8400\n",
      "   macro avg       0.98      0.98      0.98      8400\n",
      "weighted avg       0.98      0.98      0.98      8400\n",
      "\n"
     ]
    }
   ],
   "source": [
    "print(classification_report(Y_train, Y_train_pred, digits=5))"
   ]
  },
  {
   "cell_type": "code",
   "execution_count": 14,
   "metadata": {},
   "outputs": [
    {
     "data": {
      "text/plain": [
       "Text(0.5, 1.0, 'Confusion Matrix from Test Set')"
      ]
     },
     "execution_count": 14,
     "metadata": {},
     "output_type": "execute_result"
    },
    {
     "data": {
      "image/png": "[encoded data removed]",
      "text/plain": [
       "<Figure size 504x288 with 2 Axes>"
      ]
     },
     "metadata": {},
     "output_type": "display_data"
    }
   ],
   "source": [
    "plt.figure(figsize=(7,4))\n",
    "sns.heatmap(cmf_test, annot=True, fmt='d', linecolor='gray')\n",
    "plt.xlabel('Predicted')\n",
    "plt.ylabel('Real')\n",
    "plt.title('Confusion Matrix from Test Set')"
   ]
  },
  {
   "cell_type": "code",
   "execution_count": 15,
   "metadata": {},
   "outputs": [
    {
     "name": "stdout",
     "output_type": "stream",
     "text": [
      "              precision    recall  f1-score   support\n",
      "\n",
      "           0       0.96      1.00      0.98      1952\n",
      "           1       0.99      0.96      0.98      1649\n",
      "\n",
      "    accuracy                           0.98      3601\n",
      "   macro avg       0.98      0.98      0.98      3601\n",
      "weighted avg       0.98      0.98      0.98      3601\n",
      "\n"
     ]
    }
   ],
   "source": [
    "print(classification_report(Y_test, Y_test_pred, digits=5))"
   ]
  }
 ],
 "metadata": {
  "kernelspec": {
   "display_name": "Python 3.10.2 ('.venv': venv)",
   "language": "python",
   "name": "python3"
  },
  "language_info": {
   "codemirror_mode": {
    "name": "ipython",
    "version": 3
   },
   "file_extension": ".py",
   "mimetype": "text/x-python",
   "name": "python",
   "nbconvert_exporter": "python",
   "pygments_lexer": "ipython3",
   "version": "3.10.2"
  },
  "orig_nbformat": 4,
  "vscode": {
   "interpreter": {
    "hash": "fd63fbb4ffae6aa89dd8eeeb798614f517221e67db92ca128ae1e10493afb8b2"
   }
  }
 },
 "nbformat": 4,
 "nbformat_minor": 2
}
